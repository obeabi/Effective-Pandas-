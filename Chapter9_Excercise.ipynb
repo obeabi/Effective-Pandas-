{
  "nbformat": 4,
  "nbformat_minor": 0,
  "metadata": {
    "colab": {
      "provenance": [],
      "authorship_tag": "ABX9TyOeKyzQlCiSRS4PTwDCeCQN",
      "include_colab_link": true
    },
    "kernelspec": {
      "name": "python3",
      "display_name": "Python 3"
    },
    "language_info": {
      "name": "python"
    }
  },
  "cells": [
    {
      "cell_type": "markdown",
      "metadata": {
        "id": "view-in-github",
        "colab_type": "text"
      },
      "source": [
        "<a href=\"https://colab.research.google.com/github/obeabi/Effective-Pandas-/blob/main/Chapter9_Excercise.ipynb\" target=\"_parent\"><img src=\"https://colab.research.google.com/assets/colab-badge.svg\" alt=\"Open In Colab\"/></a>"
      ]
    },
    {
      "cell_type": "code",
      "execution_count": 1,
      "metadata": {
        "colab": {
          "base_uri": "https://localhost:8080/"
        },
        "id": "jf1eA5nMs94a",
        "outputId": "2d6f9ae2-c88f-4c29-b6c2-a7f7c418e61f"
      },
      "outputs": [
        {
          "output_type": "stream",
          "name": "stdout",
          "text": [
            "\\Dependencies installed successfully!\n"
          ]
        }
      ],
      "source": [
        "import pandas as pd\n",
        "import seaborn as sns\n",
        "import numpy as np\n",
        "import matplotlib.pyplot as plt\n",
        "\n",
        "\n",
        "print('\\Dependencies installed successfully!')"
      ]
    },
    {
      "cell_type": "code",
      "source": [
        "url = 'https://github.com/mattharrison/datasets/raw/master/data/vehicles.csv.zip'\n",
        "df = pd.read_csv( url , encoding='utf_8_sig')\n",
        "df.head()"
      ],
      "metadata": {
        "colab": {
          "base_uri": "https://localhost:8080/",
          "height": 401
        },
        "id": "gGlNjlNiteAI",
        "outputId": "a209b781-ed35-4397-b450-d669b2e90d56"
      },
      "execution_count": 2,
      "outputs": [
        {
          "output_type": "stream",
          "name": "stderr",
          "text": [
            "/usr/local/lib/python3.8/dist-packages/IPython/core/interactiveshell.py:3326: DtypeWarning: Columns (68,70,71,72,73,74,76,79) have mixed types.Specify dtype option on import or set low_memory=False.\n",
            "  exec(code_obj, self.user_global_ns, self.user_ns)\n"
          ]
        },
        {
          "output_type": "execute_result",
          "data": {
            "text/plain": [
              "   barrels08  barrelsA08  charge120  charge240  city08  city08U  cityA08  \\\n",
              "0  15.695714         0.0        0.0        0.0      19      0.0        0   \n",
              "1  29.964545         0.0        0.0        0.0       9      0.0        0   \n",
              "2  12.207778         0.0        0.0        0.0      23      0.0        0   \n",
              "3  29.964545         0.0        0.0        0.0      10      0.0        0   \n",
              "4  17.347895         0.0        0.0        0.0      17      0.0        0   \n",
              "\n",
              "   cityA08U  cityCD  cityE  ...  mfrCode  c240Dscr  charge240b  c240bDscr  \\\n",
              "0       0.0     0.0    0.0  ...      NaN       NaN         0.0        NaN   \n",
              "1       0.0     0.0    0.0  ...      NaN       NaN         0.0        NaN   \n",
              "2       0.0     0.0    0.0  ...      NaN       NaN         0.0        NaN   \n",
              "3       0.0     0.0    0.0  ...      NaN       NaN         0.0        NaN   \n",
              "4       0.0     0.0    0.0  ...      NaN       NaN         0.0        NaN   \n",
              "\n",
              "                      createdOn                    modifiedOn  startStop  \\\n",
              "0  Tue Jan 01 00:00:00 EST 2013  Tue Jan 01 00:00:00 EST 2013        NaN   \n",
              "1  Tue Jan 01 00:00:00 EST 2013  Tue Jan 01 00:00:00 EST 2013        NaN   \n",
              "2  Tue Jan 01 00:00:00 EST 2013  Tue Jan 01 00:00:00 EST 2013        NaN   \n",
              "3  Tue Jan 01 00:00:00 EST 2013  Tue Jan 01 00:00:00 EST 2013        NaN   \n",
              "4  Tue Jan 01 00:00:00 EST 2013  Tue Jan 01 00:00:00 EST 2013        NaN   \n",
              "\n",
              "   phevCity  phevHwy  phevComb  \n",
              "0         0        0         0  \n",
              "1         0        0         0  \n",
              "2         0        0         0  \n",
              "3         0        0         0  \n",
              "4         0        0         0  \n",
              "\n",
              "[5 rows x 83 columns]"
            ],
            "text/html": [
              "\n",
              "  <div id=\"df-dd733187-c5a9-41bc-b0f5-3a15cc672388\">\n",
              "    <div class=\"colab-df-container\">\n",
              "      <div>\n",
              "<style scoped>\n",
              "    .dataframe tbody tr th:only-of-type {\n",
              "        vertical-align: middle;\n",
              "    }\n",
              "\n",
              "    .dataframe tbody tr th {\n",
              "        vertical-align: top;\n",
              "    }\n",
              "\n",
              "    .dataframe thead th {\n",
              "        text-align: right;\n",
              "    }\n",
              "</style>\n",
              "<table border=\"1\" class=\"dataframe\">\n",
              "  <thead>\n",
              "    <tr style=\"text-align: right;\">\n",
              "      <th></th>\n",
              "      <th>barrels08</th>\n",
              "      <th>barrelsA08</th>\n",
              "      <th>charge120</th>\n",
              "      <th>charge240</th>\n",
              "      <th>city08</th>\n",
              "      <th>city08U</th>\n",
              "      <th>cityA08</th>\n",
              "      <th>cityA08U</th>\n",
              "      <th>cityCD</th>\n",
              "      <th>cityE</th>\n",
              "      <th>...</th>\n",
              "      <th>mfrCode</th>\n",
              "      <th>c240Dscr</th>\n",
              "      <th>charge240b</th>\n",
              "      <th>c240bDscr</th>\n",
              "      <th>createdOn</th>\n",
              "      <th>modifiedOn</th>\n",
              "      <th>startStop</th>\n",
              "      <th>phevCity</th>\n",
              "      <th>phevHwy</th>\n",
              "      <th>phevComb</th>\n",
              "    </tr>\n",
              "  </thead>\n",
              "  <tbody>\n",
              "    <tr>\n",
              "      <th>0</th>\n",
              "      <td>15.695714</td>\n",
              "      <td>0.0</td>\n",
              "      <td>0.0</td>\n",
              "      <td>0.0</td>\n",
              "      <td>19</td>\n",
              "      <td>0.0</td>\n",
              "      <td>0</td>\n",
              "      <td>0.0</td>\n",
              "      <td>0.0</td>\n",
              "      <td>0.0</td>\n",
              "      <td>...</td>\n",
              "      <td>NaN</td>\n",
              "      <td>NaN</td>\n",
              "      <td>0.0</td>\n",
              "      <td>NaN</td>\n",
              "      <td>Tue Jan 01 00:00:00 EST 2013</td>\n",
              "      <td>Tue Jan 01 00:00:00 EST 2013</td>\n",
              "      <td>NaN</td>\n",
              "      <td>0</td>\n",
              "      <td>0</td>\n",
              "      <td>0</td>\n",
              "    </tr>\n",
              "    <tr>\n",
              "      <th>1</th>\n",
              "      <td>29.964545</td>\n",
              "      <td>0.0</td>\n",
              "      <td>0.0</td>\n",
              "      <td>0.0</td>\n",
              "      <td>9</td>\n",
              "      <td>0.0</td>\n",
              "      <td>0</td>\n",
              "      <td>0.0</td>\n",
              "      <td>0.0</td>\n",
              "      <td>0.0</td>\n",
              "      <td>...</td>\n",
              "      <td>NaN</td>\n",
              "      <td>NaN</td>\n",
              "      <td>0.0</td>\n",
              "      <td>NaN</td>\n",
              "      <td>Tue Jan 01 00:00:00 EST 2013</td>\n",
              "      <td>Tue Jan 01 00:00:00 EST 2013</td>\n",
              "      <td>NaN</td>\n",
              "      <td>0</td>\n",
              "      <td>0</td>\n",
              "      <td>0</td>\n",
              "    </tr>\n",
              "    <tr>\n",
              "      <th>2</th>\n",
              "      <td>12.207778</td>\n",
              "      <td>0.0</td>\n",
              "      <td>0.0</td>\n",
              "      <td>0.0</td>\n",
              "      <td>23</td>\n",
              "      <td>0.0</td>\n",
              "      <td>0</td>\n",
              "      <td>0.0</td>\n",
              "      <td>0.0</td>\n",
              "      <td>0.0</td>\n",
              "      <td>...</td>\n",
              "      <td>NaN</td>\n",
              "      <td>NaN</td>\n",
              "      <td>0.0</td>\n",
              "      <td>NaN</td>\n",
              "      <td>Tue Jan 01 00:00:00 EST 2013</td>\n",
              "      <td>Tue Jan 01 00:00:00 EST 2013</td>\n",
              "      <td>NaN</td>\n",
              "      <td>0</td>\n",
              "      <td>0</td>\n",
              "      <td>0</td>\n",
              "    </tr>\n",
              "    <tr>\n",
              "      <th>3</th>\n",
              "      <td>29.964545</td>\n",
              "      <td>0.0</td>\n",
              "      <td>0.0</td>\n",
              "      <td>0.0</td>\n",
              "      <td>10</td>\n",
              "      <td>0.0</td>\n",
              "      <td>0</td>\n",
              "      <td>0.0</td>\n",
              "      <td>0.0</td>\n",
              "      <td>0.0</td>\n",
              "      <td>...</td>\n",
              "      <td>NaN</td>\n",
              "      <td>NaN</td>\n",
              "      <td>0.0</td>\n",
              "      <td>NaN</td>\n",
              "      <td>Tue Jan 01 00:00:00 EST 2013</td>\n",
              "      <td>Tue Jan 01 00:00:00 EST 2013</td>\n",
              "      <td>NaN</td>\n",
              "      <td>0</td>\n",
              "      <td>0</td>\n",
              "      <td>0</td>\n",
              "    </tr>\n",
              "    <tr>\n",
              "      <th>4</th>\n",
              "      <td>17.347895</td>\n",
              "      <td>0.0</td>\n",
              "      <td>0.0</td>\n",
              "      <td>0.0</td>\n",
              "      <td>17</td>\n",
              "      <td>0.0</td>\n",
              "      <td>0</td>\n",
              "      <td>0.0</td>\n",
              "      <td>0.0</td>\n",
              "      <td>0.0</td>\n",
              "      <td>...</td>\n",
              "      <td>NaN</td>\n",
              "      <td>NaN</td>\n",
              "      <td>0.0</td>\n",
              "      <td>NaN</td>\n",
              "      <td>Tue Jan 01 00:00:00 EST 2013</td>\n",
              "      <td>Tue Jan 01 00:00:00 EST 2013</td>\n",
              "      <td>NaN</td>\n",
              "      <td>0</td>\n",
              "      <td>0</td>\n",
              "      <td>0</td>\n",
              "    </tr>\n",
              "  </tbody>\n",
              "</table>\n",
              "<p>5 rows × 83 columns</p>\n",
              "</div>\n",
              "      <button class=\"colab-df-convert\" onclick=\"convertToInteractive('df-dd733187-c5a9-41bc-b0f5-3a15cc672388')\"\n",
              "              title=\"Convert this dataframe to an interactive table.\"\n",
              "              style=\"display:none;\">\n",
              "        \n",
              "  <svg xmlns=\"http://www.w3.org/2000/svg\" height=\"24px\"viewBox=\"0 0 24 24\"\n",
              "       width=\"24px\">\n",
              "    <path d=\"M0 0h24v24H0V0z\" fill=\"none\"/>\n",
              "    <path d=\"M18.56 5.44l.94 2.06.94-2.06 2.06-.94-2.06-.94-.94-2.06-.94 2.06-2.06.94zm-11 1L8.5 8.5l.94-2.06 2.06-.94-2.06-.94L8.5 2.5l-.94 2.06-2.06.94zm10 10l.94 2.06.94-2.06 2.06-.94-2.06-.94-.94-2.06-.94 2.06-2.06.94z\"/><path d=\"M17.41 7.96l-1.37-1.37c-.4-.4-.92-.59-1.43-.59-.52 0-1.04.2-1.43.59L10.3 9.45l-7.72 7.72c-.78.78-.78 2.05 0 2.83L4 21.41c.39.39.9.59 1.41.59.51 0 1.02-.2 1.41-.59l7.78-7.78 2.81-2.81c.8-.78.8-2.07 0-2.86zM5.41 20L4 18.59l7.72-7.72 1.47 1.35L5.41 20z\"/>\n",
              "  </svg>\n",
              "      </button>\n",
              "      \n",
              "  <style>\n",
              "    .colab-df-container {\n",
              "      display:flex;\n",
              "      flex-wrap:wrap;\n",
              "      gap: 12px;\n",
              "    }\n",
              "\n",
              "    .colab-df-convert {\n",
              "      background-color: #E8F0FE;\n",
              "      border: none;\n",
              "      border-radius: 50%;\n",
              "      cursor: pointer;\n",
              "      display: none;\n",
              "      fill: #1967D2;\n",
              "      height: 32px;\n",
              "      padding: 0 0 0 0;\n",
              "      width: 32px;\n",
              "    }\n",
              "\n",
              "    .colab-df-convert:hover {\n",
              "      background-color: #E2EBFA;\n",
              "      box-shadow: 0px 1px 2px rgba(60, 64, 67, 0.3), 0px 1px 3px 1px rgba(60, 64, 67, 0.15);\n",
              "      fill: #174EA6;\n",
              "    }\n",
              "\n",
              "    [theme=dark] .colab-df-convert {\n",
              "      background-color: #3B4455;\n",
              "      fill: #D2E3FC;\n",
              "    }\n",
              "\n",
              "    [theme=dark] .colab-df-convert:hover {\n",
              "      background-color: #434B5C;\n",
              "      box-shadow: 0px 1px 3px 1px rgba(0, 0, 0, 0.15);\n",
              "      filter: drop-shadow(0px 1px 2px rgba(0, 0, 0, 0.3));\n",
              "      fill: #FFFFFF;\n",
              "    }\n",
              "  </style>\n",
              "\n",
              "      <script>\n",
              "        const buttonEl =\n",
              "          document.querySelector('#df-dd733187-c5a9-41bc-b0f5-3a15cc672388 button.colab-df-convert');\n",
              "        buttonEl.style.display =\n",
              "          google.colab.kernel.accessAllowed ? 'block' : 'none';\n",
              "\n",
              "        async function convertToInteractive(key) {\n",
              "          const element = document.querySelector('#df-dd733187-c5a9-41bc-b0f5-3a15cc672388');\n",
              "          const dataTable =\n",
              "            await google.colab.kernel.invokeFunction('convertToInteractive',\n",
              "                                                     [key], {});\n",
              "          if (!dataTable) return;\n",
              "\n",
              "          const docLinkHtml = 'Like what you see? Visit the ' +\n",
              "            '<a target=\"_blank\" href=https://colab.research.google.com/notebooks/data_table.ipynb>data table notebook</a>'\n",
              "            + ' to learn more about interactive tables.';\n",
              "          element.innerHTML = '';\n",
              "          dataTable['output_type'] = 'display_data';\n",
              "          await google.colab.output.renderOutput(dataTable, element);\n",
              "          const docLink = document.createElement('div');\n",
              "          docLink.innerHTML = docLinkHtml;\n",
              "          element.appendChild(docLink);\n",
              "        }\n",
              "      </script>\n",
              "    </div>\n",
              "  </div>\n",
              "  "
            ]
          },
          "metadata": {},
          "execution_count": 2
        }
      ]
    },
    {
      "cell_type": "markdown",
      "source": [
        "Question 1\n",
        "\n",
        "Create a series from a numeric column that has the value of 'high' if it is equal to or above\n",
        "the mean and 'low' if it is below the mean using .apply"
      ],
      "metadata": {
        "id": "liN_NWLets88"
      }
    },
    {
      "cell_type": "code",
      "source": [
        "df.barrels08.mean()"
      ],
      "metadata": {
        "colab": {
          "base_uri": "https://localhost:8080/"
        },
        "id": "bRtxx7k8vd8g",
        "outputId": "d55fd03d-d91d-4541-ae5f-ba564ccd0fa1"
      },
      "execution_count": 3,
      "outputs": [
        {
          "output_type": "execute_result",
          "data": {
            "text/plain": [
              "17.283899595906725"
            ]
          },
          "metadata": {},
          "execution_count": 3
        }
      ]
    },
    {
      "cell_type": "code",
      "source": [
        "barrels08 = df.barrels08\n",
        "m = barrels08.mean()\n",
        "m"
      ],
      "metadata": {
        "colab": {
          "base_uri": "https://localhost:8080/"
        },
        "id": "8_LSXGg2wtx5",
        "outputId": "57f2f907-ee2e-4387-e52b-b25db364195b"
      },
      "execution_count": 4,
      "outputs": [
        {
          "output_type": "execute_result",
          "data": {
            "text/plain": [
              "17.283899595906725"
            ]
          },
          "metadata": {},
          "execution_count": 4
        }
      ]
    },
    {
      "cell_type": "code",
      "source": [
        "def column_categorize(my_list):\n",
        "  \"\"\"\n",
        "   This function assigns high to values greater or equal than mean of colum values and low otherwise\n",
        "  \"\"\"\n",
        "  try :\n",
        "      if my_list >= mean_:\n",
        "        return 'high'\n",
        "      else:\n",
        "        return 'low'\n",
        "  except Exception as e:\n",
        "    print(e)\n",
        "  #finally:\n",
        "    #print(\"function call complete!\")\n",
        "\n",
        "\n",
        "if __name__ == \"__main__\":\n",
        "  barrels = df.barrels08\n",
        "  mean_ = df.barrels08.mean()\n",
        "  x = barrels.apply(column_categorize)\n",
        "\n",
        "print(x)\n",
        "  "
      ],
      "metadata": {
        "colab": {
          "base_uri": "https://localhost:8080/"
        },
        "id": "Aw7UisFNtqZo",
        "outputId": "b406b3b5-feb4-4216-d7e6-3e66f0d63e26"
      },
      "execution_count": 5,
      "outputs": [
        {
          "output_type": "stream",
          "name": "stdout",
          "text": [
            "0         low\n",
            "1        high\n",
            "2         low\n",
            "3        high\n",
            "4        high\n",
            "         ... \n",
            "41139     low\n",
            "41140     low\n",
            "41141     low\n",
            "41142     low\n",
            "41143    high\n",
            "Name: barrels08, Length: 41144, dtype: object\n"
          ]
        }
      ]
    },
    {
      "cell_type": "markdown",
      "source": [
        "Question 2\n",
        "\n",
        "Create a series from a numeric column that has the value of 'high' if it is equal to or above the mean and 'low' if it is below the mean using np.select.\n"
      ],
      "metadata": {
        "id": "mbQPoeIJyM3a"
      }
    },
    {
      "cell_type": "code",
      "source": [
        "def column_categorize2(my_list):\n",
        "  \"\"\"\n",
        "  uses the numpy select method to create a series with high value when value is greeater or equal to mean\n",
        "  \"\"\"\n",
        "  try:\n",
        "    x = pd.Series(\n",
        "        np.select([my_list.ge(my_list.mean())], ['high'], 'low')\n",
        "        )\n",
        "    return x\n",
        "  except Exception as e:\n",
        "    print(e)\n",
        "\n",
        "if __name__ == \"__main__\":\n",
        "  x = column_categorize2(df.barrels08)\n",
        "  print(x)\n",
        "\n",
        " \n",
        "\n",
        "\n",
        "\n"
      ],
      "metadata": {
        "colab": {
          "base_uri": "https://localhost:8080/"
        },
        "id": "UDr4AYMyyXZy",
        "outputId": "2e9ec779-1f23-41cd-92bf-7bedccf58727"
      },
      "execution_count": 6,
      "outputs": [
        {
          "output_type": "stream",
          "name": "stdout",
          "text": [
            "0         low\n",
            "1        high\n",
            "2         low\n",
            "3        high\n",
            "4        high\n",
            "         ... \n",
            "41139     low\n",
            "41140     low\n",
            "41141     low\n",
            "41142     low\n",
            "41143    high\n",
            "Length: 41144, dtype: object\n"
          ]
        }
      ]
    },
    {
      "cell_type": "markdown",
      "source": [
        "Question 3\n",
        "\n",
        "Time the differences between the previous two solutions to see which is faster."
      ],
      "metadata": {
        "id": "M_e95OaIz8fy"
      }
    },
    {
      "cell_type": "code",
      "source": [
        "%%timeit\n",
        "column_categorize2(df.barrels08)"
      ],
      "metadata": {
        "colab": {
          "base_uri": "https://localhost:8080/"
        },
        "id": "Z1dSCwl60IeV",
        "outputId": "5975852d-44af-468a-895c-254186bb0cd0"
      },
      "execution_count": 7,
      "outputs": [
        {
          "output_type": "stream",
          "name": "stdout",
          "text": [
            "10.3 ms ± 4.45 ms per loop (mean ± std. dev. of 7 runs, 100 loops each)\n"
          ]
        }
      ]
    },
    {
      "cell_type": "code",
      "source": [
        "%%timeit\n",
        "df.barrels08.apply(column_categorize)"
      ],
      "metadata": {
        "colab": {
          "base_uri": "https://localhost:8080/"
        },
        "id": "jIc8lO5y1_Du",
        "outputId": "86c44741-9c40-4c5a-f98f-6a9683ece934"
      },
      "execution_count": 8,
      "outputs": [
        {
          "output_type": "stream",
          "name": "stdout",
          "text": [
            "39.7 ms ± 9.64 ms per loop (mean ± std. dev. of 7 runs, 10 loops each)\n"
          ]
        }
      ]
    },
    {
      "cell_type": "code",
      "source": [
        "df.dtypes"
      ],
      "metadata": {
        "colab": {
          "base_uri": "https://localhost:8080/"
        },
        "id": "zgbe0d7U3CVP",
        "outputId": "ecfab52a-7ccd-4038-c9cb-026f899cc7c3"
      },
      "execution_count": 9,
      "outputs": [
        {
          "output_type": "execute_result",
          "data": {
            "text/plain": [
              "barrels08     float64\n",
              "barrelsA08    float64\n",
              "charge120     float64\n",
              "charge240     float64\n",
              "city08          int64\n",
              "               ...   \n",
              "modifiedOn     object\n",
              "startStop      object\n",
              "phevCity        int64\n",
              "phevHwy         int64\n",
              "phevComb        int64\n",
              "Length: 83, dtype: object"
            ]
          },
          "metadata": {},
          "execution_count": 9
        }
      ]
    },
    {
      "cell_type": "code",
      "source": [
        "df.cylinders.median()"
      ],
      "metadata": {
        "colab": {
          "base_uri": "https://localhost:8080/"
        },
        "id": "R7JeXdKN5dmM",
        "outputId": "7b54fcfb-a1db-4210-cc8f-3809c498152c"
      },
      "execution_count": 10,
      "outputs": [
        {
          "output_type": "execute_result",
          "data": {
            "text/plain": [
              "6.0"
            ]
          },
          "metadata": {},
          "execution_count": 10
        }
      ]
    },
    {
      "cell_type": "code",
      "source": [
        "df.cylinders.quantile(0.5)"
      ],
      "metadata": {
        "colab": {
          "base_uri": "https://localhost:8080/"
        },
        "id": "y2lV4thX5g_Q",
        "outputId": "5f315950-5e5f-4627-c313-983c76815d42"
      },
      "execution_count": 11,
      "outputs": [
        {
          "output_type": "execute_result",
          "data": {
            "text/plain": [
              "6.0"
            ]
          },
          "metadata": {},
          "execution_count": 11
        }
      ]
    },
    {
      "cell_type": "markdown",
      "source": [
        "Question 4\n",
        "\n",
        "Replace the missing values of a numeric series with the median value."
      ],
      "metadata": {
        "id": "b16rS5LZ2Q-M"
      }
    },
    {
      "cell_type": "code",
      "source": [
        "# Replace missing values with median value\n",
        "print('missing values in original series\\n')\n",
        "print(df['cylinders'].isna().sum())\n",
        "df['cylinders'] = df['cylinders'].fillna( df.cylinders.quantile(0.5) )\n",
        "print('\\nmissing values in after filling missing values with median :', df.cylinders.isna().sum())\n"
      ],
      "metadata": {
        "colab": {
          "base_uri": "https://localhost:8080/"
        },
        "id": "OVr74TM12f69",
        "outputId": "06e8536e-f316-480c-d500-bd35b45f8b9f"
      },
      "execution_count": 12,
      "outputs": [
        {
          "output_type": "stream",
          "name": "stdout",
          "text": [
            "missing values in original series\n",
            "\n",
            "206\n",
            "\n",
            "missing values in after filling missing values with median : 0\n"
          ]
        }
      ]
    },
    {
      "cell_type": "markdown",
      "source": [
        "Question 5\n",
        "\n",
        "Clip the values of a numeric series to between to 10th and 90th percentiles."
      ],
      "metadata": {
        "id": "IQMuZb4V2Vgo"
      }
    },
    {
      "cell_type": "code",
      "source": [
        "# Before clipping\n",
        "sns.boxplot( y = 'cylinders', data = df)\n",
        "plt.show()"
      ],
      "metadata": {
        "colab": {
          "base_uri": "https://localhost:8080/",
          "height": 252
        },
        "id": "W5QA5mXv6PJZ",
        "outputId": "263b3092-434b-4c36-cd0c-0220d088156d"
      },
      "execution_count": 13,
      "outputs": [
        {
          "output_type": "display_data",
          "data": {
            "text/plain": [
              "<Figure size 432x288 with 1 Axes>"
            ],
            "image/png": "[encoded data removed]"
          },
          "metadata": {
            "needs_background": "light"
          }
        }
      ]
    },
    {
      "cell_type": "code",
      "source": [
        "# After clipping series\n",
        "df['cylinders'].clip(lower = df.cylinders.quantile(0.1), \\\n",
        "                     upper = df['cylinders']. quantile(0.9),\n",
        "                     inplace = True)\n",
        "\n",
        "sns.boxplot( y = 'cylinders', data = df)\n",
        "plt.show()"
      ],
      "metadata": {
        "colab": {
          "base_uri": "https://localhost:8080/",
          "height": 252
        },
        "id": "IJleussV74Ud",
        "outputId": "bd9d4dc7-821f-4bf8-9c31-c9a59c83fb80"
      },
      "execution_count": 14,
      "outputs": [
        {
          "output_type": "display_data",
          "data": {
            "text/plain": [
              "<Figure size 432x288 with 1 Axes>"
            ],
            "image/png": "[encoded data removed]"
          },
          "metadata": {
            "needs_background": "light"
          }
        }
      ]
    },
    {
      "cell_type": "markdown",
      "source": [
        "Question 6\n",
        "\n",
        "Using a categorical column, replace any value that is not in the top 5 most frequent values\n",
        "with 'Other'."
      ],
      "metadata": {
        "id": "Z6RdZre8rvlv"
      }
    },
    {
      "cell_type": "code",
      "source": [
        "# Inspect categorical column\n",
        "url = 'https://github.com/mattharrison/datasets/raw/master/data/vehicles.csv.zip'\n",
        "df = pd.read_csv( url , encoding='utf_8_sig')\n",
        "\n",
        "df1 = df.copy()\n",
        "df1.drive.value_counts()"
      ],
      "metadata": {
        "id": "tnP_EliYr2CJ",
        "outputId": "3253b663-2bfd-49c9-a26a-5ad0cb43586f",
        "colab": {
          "base_uri": "https://localhost:8080/"
        }
      },
      "execution_count": 40,
      "outputs": [
        {
          "output_type": "stream",
          "name": "stderr",
          "text": [
            "/usr/local/lib/python3.8/dist-packages/IPython/core/interactiveshell.py:3326: DtypeWarning: Columns (68,70,71,72,73,74,76,79) have mixed types.Specify dtype option on import or set low_memory=False.\n",
            "  exec(code_obj, self.user_global_ns, self.user_ns)\n"
          ]
        },
        {
          "output_type": "execute_result",
          "data": {
            "text/plain": [
              "Front-Wheel Drive             14236\n",
              "Rear-Wheel Drive              13831\n",
              "4-Wheel or All-Wheel Drive     6648\n",
              "All-Wheel Drive                3015\n",
              "4-Wheel Drive                  1460\n",
              "2-Wheel Drive                   507\n",
              "Part-time 4-Wheel Drive         258\n",
              "Name: drive, dtype: int64"
            ]
          },
          "metadata": {},
          "execution_count": 40
        }
      ]
    },
    {
      "cell_type": "code",
      "source": [
        "# Extract top 5 values and use where \n",
        "top5 = df1.drive.value_counts()[:5]\n",
        "print(top5.index)\n",
        "df1['drive'] = df1['drive'].where(df1.drive.isin(top5.index),'Other')\n",
        "\n",
        "print(\"\\nResults after manipulation of the series is\\n \")\n",
        "print(df1['drive'].value_counts())"
      ],
      "metadata": {
        "id": "Degf8m-nsEWP",
        "outputId": "9c157bb0-2d49-4c85-c586-d6b223e9a2a6",
        "colab": {
          "base_uri": "https://localhost:8080/"
        }
      },
      "execution_count": 55,
      "outputs": [
        {
          "output_type": "stream",
          "name": "stdout",
          "text": [
            "Index(['Front-Wheel Drive', 'Rear-Wheel Drive', '4-Wheel or All-Wheel Drive',\n",
            "       'All-Wheel Drive', 'Other'],\n",
            "      dtype='object')\n",
            "\n",
            "Results after manipulation of the series is\n",
            " \n",
            "Front-Wheel Drive             14236\n",
            "Rear-Wheel Drive              13831\n",
            "4-Wheel or All-Wheel Drive     6648\n",
            "Other                          3414\n",
            "All-Wheel Drive                3015\n",
            "Name: drive, dtype: int64\n"
          ]
        }
      ]
    },
    {
      "cell_type": "markdown",
      "source": [
        "Question 7\n",
        "\n",
        "Using a categorical column, replace any value that is not in the top 10 most frequent values\n",
        "with 'Other'."
      ],
      "metadata": {
        "id": "wMbL0nHFuG9N"
      }
    },
    {
      "cell_type": "code",
      "source": [
        "df2 = df.copy()\n",
        "top10 = df2.model.value_counts()[:10]\n",
        "print(top10.index)\n",
        "df2['model'] = df2['model'].where(df2.model.isin(top10.index),'Other')\n",
        "\n",
        "print(\"\\nResults after manipulation of the series is\\n \")\n",
        "print(df2['model'].value_counts())"
      ],
      "metadata": {
        "id": "9Sw0E0vDtUxO",
        "outputId": "31cc028a-1c09-43de-ec5b-5c687e3b95e5",
        "colab": {
          "base_uri": "https://localhost:8080/"
        }
      },
      "execution_count": 54,
      "outputs": [
        {
          "output_type": "stream",
          "name": "stdout",
          "text": [
            "Index(['F150 Pickup 2WD', 'F150 Pickup 4WD', 'Mustang', 'Jetta', 'Truck 2WD',\n",
            "       'Camaro', 'Ranger Pickup 2WD', 'Accord', 'Civic', 'Sierra 1500 4WD'],\n",
            "      dtype='object')\n",
            "\n",
            "Results after manipulation of the series is\n",
            " \n",
            "Other                39348\n",
            "F150 Pickup 2WD        220\n",
            "F150 Pickup 4WD        198\n",
            "Mustang                192\n",
            "Jetta                  190\n",
            "Truck 2WD              187\n",
            "Camaro                 182\n",
            "Ranger Pickup 2WD      169\n",
            "Accord                 157\n",
            "Civic                  152\n",
            "Sierra 1500 4WD        149\n",
            "Name: model, dtype: int64\n"
          ]
        }
      ]
    },
    {
      "cell_type": "markdown",
      "source": [
        "Question 8\n",
        "\n",
        "Make a function that takes a categorical series and a number (n) and returns a replace series\n",
        "that replaces any value that is not in the top n most frequent values with 'Other'.\n"
      ],
      "metadata": {
        "id": "-9EO6xLewLjT"
      }
    },
    {
      "cell_type": "code",
      "source": [
        "def replace_series(my_series, n):\n",
        "  \"\"\"\n",
        "  this function retruns a new series with values not in the top n most frequent values replaced with 'Other'\n",
        "  while keeping top n most frequent values\n",
        "\n",
        "  n = Top n frequent values\n",
        "  my_series = user supplied series\n",
        "\n",
        "  \"\"\"\n",
        "  import pandas as pd\n",
        "  topN = my_series.value_counts()[:n]\n",
        "  \n",
        "  return my_series.where(my_series.isin(topN.index), 'Other')\n",
        "\n",
        "\n",
        "if __name__ == '__main__':\n",
        "  print(\"Before manipulation\\n\")\n",
        "  print(df.make.value_counts())\n",
        "  print(\"\\n After manipulation\\n\")\n",
        "  print(replace_series(df.make, 8).value_counts())\n"
      ],
      "metadata": {
        "id": "ZemnpWgXsqRh",
        "outputId": "e110e726-1cd0-44ba-b4a3-11e68e747929",
        "colab": {
          "base_uri": "https://localhost:8080/"
        }
      },
      "execution_count": 60,
      "outputs": [
        {
          "output_type": "stream",
          "name": "stdout",
          "text": [
            "before manipulation\n",
            "\n",
            "Chevrolet                      4003\n",
            "Ford                           3371\n",
            "Dodge                          2583\n",
            "GMC                            2494\n",
            "Toyota                         2071\n",
            "                               ... \n",
            "Volga Associated Automobile       1\n",
            "Panos                             1\n",
            "Mahindra                          1\n",
            "Excalibur Autos                   1\n",
            "London Coach Co Inc               1\n",
            "Name: make, Length: 136, dtype: int64\n",
            "\n",
            " After manipulation\n",
            "\n",
            "Other            21647\n",
            "Chevrolet         4003\n",
            "Ford              3371\n",
            "Dodge             2583\n",
            "GMC               2494\n",
            "Toyota            2071\n",
            "BMW               1966\n",
            "Mercedes-Benz     1538\n",
            "Nissan            1471\n",
            "Name: make, dtype: int64\n"
          ]
        }
      ]
    },
    {
      "cell_type": "markdown",
      "source": [
        "Question 9\n",
        "\n",
        " Using a numeric column, bin it into 10 groups that have the same width."
      ],
      "metadata": {
        "id": "Y8veTLD3yKoc"
      }
    },
    {
      "cell_type": "code",
      "source": [
        "# Lets visualize numeric column\n",
        "plt.hist(df2.displ)\n",
        "plt.xlabel('Displacement')\n",
        "plt.ylabel('Count')\n",
        "plt.title('Displacement bins')\n",
        "plt.show()"
      ],
      "metadata": {
        "id": "m4Cm3xis0RZW",
        "outputId": "36117adf-3133-401d-d709-115a9146dadf",
        "colab": {
          "base_uri": "https://localhost:8080/",
          "height": 295
        }
      },
      "execution_count": 73,
      "outputs": [
        {
          "output_type": "display_data",
          "data": {
            "text/plain": [
              "<Figure size 432x288 with 1 Axes>"
            ],
            "image/png": "[encoded data removed]"
          },
          "metadata": {
            "needs_background": "light"
          }
        }
      ]
    },
    {
      "cell_type": "code",
      "source": [
        "# Create 10 bins of equal width\n",
        "displacement = df.displ\n",
        "df.binned= pd.cut(x = displacement , bins = 10 , include_lowest= True)\n",
        "df.binned"
      ],
      "metadata": {
        "id": "KYTv-WlOshBS",
        "outputId": "876411b9-ff41-4d1b-f32d-09f893e39d32",
        "colab": {
          "base_uri": "https://localhost:8080/"
        }
      },
      "execution_count": 79,
      "outputs": [
        {
          "output_type": "execute_result",
          "data": {
            "text/plain": [
              "0        (1.68, 2.52]\n",
              "1         (4.2, 5.04]\n",
              "2        (1.68, 2.52]\n",
              "3        (5.04, 5.88]\n",
              "4        (1.68, 2.52]\n",
              "             ...     \n",
              "41139    (1.68, 2.52]\n",
              "41140    (1.68, 2.52]\n",
              "41141    (1.68, 2.52]\n",
              "41142    (1.68, 2.52]\n",
              "41143    (1.68, 2.52]\n",
              "Name: displ, Length: 41144, dtype: category\n",
              "Categories (10, interval[float64, right]): [(-0.009399999999999999, 0.84] < (0.84, 1.68] < (1.68, 2.52] <\n",
              "                                            (2.52, 3.36] ... (5.04, 5.88] < (5.88, 6.72] <\n",
              "                                            (6.72, 7.56] < (7.56, 8.4]]"
            ]
          },
          "metadata": {},
          "execution_count": 79
        }
      ]
    },
    {
      "cell_type": "code",
      "source": [
        "# Lets visualize numeric column\n",
        "plt.hist(df.binned.value_counts())\n",
        "plt.xlabel('Binned Displacement')\n",
        "plt.ylabel('Count')\n",
        "plt.title('Displacement bins')\n",
        "plt.show()"
      ],
      "metadata": {
        "id": "5xRXVYZa07bC",
        "outputId": "91e21890-48f5-4a3a-ddee-1da792e84660",
        "colab": {
          "base_uri": "https://localhost:8080/",
          "height": 295
        }
      },
      "execution_count": 82,
      "outputs": [
        {
          "output_type": "display_data",
          "data": {
            "text/plain": [
              "<Figure size 432x288 with 1 Axes>"
            ],
            "image/png": "[encoded data removed]"
          },
          "metadata": {
            "needs_background": "light"
          }
        }
      ]
    },
    {
      "cell_type": "markdown",
      "source": [
        "Question 10\n",
        "\n",
        "Using a numeric column, bin it into 10 groups that have equal sized bins."
      ],
      "metadata": {
        "id": "tYskKGEX0wIo"
      }
    },
    {
      "cell_type": "code",
      "source": [
        "# Create 10 groups that have equal sized bins \n",
        "\n",
        "df['qbinned'] = pd.qcut(x = df.displ , q = 10)\n",
        "df.qbinned"
      ],
      "metadata": {
        "id": "0xgDADV51cAU",
        "outputId": "b7bb5c42-139e-4ef3-e8eb-6641b07159c7",
        "colab": {
          "base_uri": "https://localhost:8080/"
        }
      },
      "execution_count": 84,
      "outputs": [
        {
          "output_type": "execute_result",
          "data": {
            "text/plain": [
              "0        (1.8, 2.0]\n",
              "1        (4.6, 5.3]\n",
              "2        (2.0, 2.4]\n",
              "3        (4.6, 5.3]\n",
              "4        (2.0, 2.4]\n",
              "            ...    \n",
              "41139    (2.0, 2.4]\n",
              "41140    (2.0, 2.4]\n",
              "41141    (2.0, 2.4]\n",
              "41142    (2.0, 2.4]\n",
              "41143    (2.0, 2.4]\n",
              "Name: qbinned, Length: 41144, dtype: category\n",
              "Categories (10, interval[float64, right]): [(-0.001, 1.8] < (1.8, 2.0] < (2.0, 2.4] < (2.4, 2.5] < ... <\n",
              "                                            (3.5, 3.9] < (3.9, 4.6] < (4.6, 5.3] < (5.3, 8.4]]"
            ]
          },
          "metadata": {},
          "execution_count": 84
        }
      ]
    },
    {
      "cell_type": "code",
      "source": [
        "# Lets visualize numeric column\n",
        "plt.hist(df.qbinned.value_counts())\n",
        "plt.xlabel('Q-Binned Displacement')\n",
        "plt.ylabel('Count')\n",
        "plt.title('Displacement bins')\n",
        "plt.show()"
      ],
      "metadata": {
        "id": "GB5XuFZh2Wc8",
        "outputId": "44234fc8-7e2e-4e14-f391-180ecd050482",
        "colab": {
          "base_uri": "https://localhost:8080/",
          "height": 295
        }
      },
      "execution_count": 85,
      "outputs": [
        {
          "output_type": "display_data",
          "data": {
            "text/plain": [
              "<Figure size 432x288 with 1 Axes>"
            ],
            "image/png": "[encoded data removed]"
          },
          "metadata": {
            "needs_background": "light"
          }
        }
      ]
    }
  ]
}